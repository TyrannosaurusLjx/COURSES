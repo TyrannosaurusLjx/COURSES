{
 "cells": [
  {
   "cell_type": "markdown",
   "id": "55697efe-8663-4b0d-ba57-2be3c5bfac15",
   "metadata": {},
   "source": [
    "### 注意到$c_{ij}$是对称矩阵。故y-x=1时，n一定是偶数，同样可以得出y-x=2时，n一定是奇数。从而问题转化为证明\n",
    "$T^*(C) \\geq \\begin{cases} 2  & n \\equiv 0, mod 2 \\\\ 1 & n\\equiv 1, mod 2\\end{cases}$"
   ]
  },
  {
   "cell_type": "markdown",
   "id": "d31622f5-46d0-47a5-b805-5f2c979c38e0",
   "metadata": {},
   "source": [
    "不妨把相互距离为0的城市看成一个城市族，一旦进入城市族其中的一个城市就依次遍历所有城市。如果不这样做，显然再次进入同一个城市族的没有访问过的城市的时候，总体距离会增加。\n",
    "\n",
    "当n为偶数时，前n/2个城市看成一个城市族A，相应的后n/2个城市看成一个城市族B,问题转化为两个城市之间的TSP问题，且距离矩阵为\n",
    "$\\begin{bmatrix} 0 & 1 \\\\ 1 & 0 \\end{bmatrix}$，显然T>=2.\n",
    "当n为奇数时，前(n-1)/2个城市看成城市族A，第(n+1)/2个城市记为城市族B，其余的记为C，问题转化为三个城市的TSP问题，其距离矩阵为$\\begin{bmatrix}0&0&1\\\\0&0&0\\\\1&0&0\\end{bmatrix}$,穷举可知T>=1。\n"
   ]
  },
  {
   "cell_type": "markdown",
   "id": "1b1c8acd-0a04-47d4-a916-a12671612cbf",
   "metadata": {},
   "source": [
    "矩阵 $\\Phi$记录了轨迹，将从城市i到城市j的行为记成$c_{ij} =c_[ji}=1$,因此该路径的路程就是矩阵$\\Phi$和距离矩阵的哈达玛乘积矩阵的元素和的一半"
   ]
  },
  {
   "cell_type": "code",
   "execution_count": 3,
   "id": "e5dfc4a7-9a47-42a4-bf6a-cfd9a5c19a31",
   "metadata": {},
   "outputs": [],
   "source": [
    "import numpy as np\n",
    "def C(n):\n",
    "    mat = [ [0 for j in range(n)] for i in range(n)]\n",
    "    if n&1 == 0:\n",
    "        x = n/2\n",
    "        for i in range(n):\n",
    "            for j in range(n):\n",
    "                if (i < x and j >= x) or (i >= x and j<x):\n",
    "                    mat[i][j]=1\n",
    "    else:\n",
    "        x = (n-1)/2\n",
    "        for i in range(n):\n",
    "            for j in range(n):\n",
    "                if(i < x and j > x) or ( i > x and j < x):\n",
    "                    mat[i][j] = 1\n",
    "    mat = np.array(mat)\n",
    "    return mat\n",
    "        \n"
   ]
  },
  {
   "cell_type": "markdown",
   "id": "d412b3f7-0a5c-4754-96dd-4e5536a0dcb2",
   "metadata": {},
   "source": [
    "S在任何一个环游中的距离都是固定的，每个C已经在1中解决，从而$\\pi$是距离矩阵为M的TSP问题的每个子问题的最优解，自然是母问题的最优解"
   ]
  }
 ],
 "metadata": {
  "kernelspec": {
   "display_name": "Python 3 (ipykernel)",
   "language": "python",
   "name": "python3"
  },
  "language_info": {
   "codemirror_mode": {
    "name": "ipython",
    "version": 3
   },
   "file_extension": ".py",
   "mimetype": "text/x-python",
   "name": "python",
   "nbconvert_exporter": "python",
   "pygments_lexer": "ipython3",
   "version": "3.10.12"
  }
 },
 "nbformat": 4,
 "nbformat_minor": 5
}
