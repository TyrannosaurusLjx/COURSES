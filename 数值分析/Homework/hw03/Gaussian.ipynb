{
 "cells": [
  {
   "cell_type": "markdown",
   "metadata": {},
   "source": []
  },
  {
   "cell_type": "markdown",
   "metadata": {},
   "source": [
    "设计思路:$AX=B$ \n",
    "\n",
    "外循环使得矩阵成为右上矩阵,根据最大元交换的条件生成初等矩阵$P_i,Q_i$,新增广矩阵为$P_iAQ_i|P_iB$,记录 $Q *=Q_i,Q_0=E$\n",
    "\n",
    "内循环使得矩阵成为对角矩阵\n",
    "\n",
    "最后循环一次执行消去操作即可\n",
    "\n",
    "Finally$$ (x_1,x_2,\\cdots x_n)Q = (x_{i_1},x_{i_2},\\cdots,x_{i_n}) \\Rightarrow X = X'Q^{-1} $$"
   ]
  },
  {
   "cell_type": "markdown",
   "metadata": {},
   "source": []
  },
  {
   "cell_type": "code",
   "execution_count": 112,
   "metadata": {},
   "outputs": [],
   "source": [
    "import numpy as np\n",
    "# A = list<list<float>> , B = list<float>\n",
    "def Gauss(A,B):\n",
    "    A,B = np.array(A),np.array(B)[:,np.newaxis] # to col vector\n",
    "    dim = len(B)\n",
    "    \n",
    "    # return the row and col of maxValue\n",
    "    def locateMax(A,depth):\n",
    "        i0,j0 = np.unravel_index( np.argmax( A[depth:,depth:] ), A.shape )\n",
    "        i = i0 + depth\n",
    "        j = j0 + depth\n",
    "        return i, j\n",
    "    \n",
    "    # (i,j)<->(k,l)\n",
    "    def getPQ(i, j, k, l):\n",
    "        Pj = np.eye(dim)\n",
    "        Qj = np.eye(dim)\n",
    "        Pj[[i,k]] = Pj[[k,i]]\n",
    "        Qj[:,[j,l]] = Qj[:,[l,j]]\n",
    "        return Pj, Qj\n",
    "    \n",
    "    # row j += row i * k\n",
    "    def MulkAndAdd(i,k,j):\n",
    "        for s in range(dim):\n",
    "            A[j,s] += A[i,s] * k \n",
    "    \n",
    "    Q = np.eye(dim)\n",
    "    for depth in range(dim-1):\n",
    "        # exchange\n",
    "        max_row, max_col = locateMax(A, depth)\n",
    "        Pi, Qi = getPQ(depth, depth, max_row, max_col)\n",
    "        Q  = np.dot(Q, Qi)\n",
    "        A = np.dot(Pi, np.dot(A, Qi))\n",
    "        B = np.dot(Pi, B)\n",
    "        pivot = A[depth,depth]\n",
    "        \n",
    "        for row in range(depth + 1, dim):\n",
    "            p = - A[row, depth] / pivot\n",
    "            MulkAndAdd(depth, p, row)\n",
    "            B[row,0] += p * B[depth, 0]\n",
    "            \n",
    "    for depth in range(dim - 1, 0, -1):\n",
    "        pivot = A[depth, depth]\n",
    "        for row in range(depth-1, -1, -1):\n",
    "            p = - A[row,depth] / pivot\n",
    "            MulkAndAdd(depth, p, row)\n",
    "            B[row,0] += p * B[depth, 0]\n",
    "\n",
    "    # inverse to X\n",
    "    diagA = np.diag(A)\n",
    "    X = np.array([ B[i,0] / diagA[i] for i in range(dim)])\n",
    "    X = np.round(X,decimals=4)\n",
    "    X = np.dot(X, np.linalg.inv(Q))\n",
    "    return X"
   ]
  },
  {
   "cell_type": "code",
   "execution_count": 113,
   "metadata": {},
   "outputs": [
    {
     "name": "stdout",
     "output_type": "stream",
     "text": [
      "AX=B'的解为X=[-0.4904 -0.051   0.3675]\n"
     ]
    }
   ],
   "source": [
    "A = [[0.001, 2, 3],[-1, 3.712, 4.623],[-2, 1.072, 5.643]]\n",
    "B = [1, 2, 3]\n",
    "print(\"AX=B\\'的解为X={}\".format(Gauss(A,B)))"
   ]
  },
  {
   "cell_type": "code",
   "execution_count": 114,
   "metadata": {},
   "outputs": [
    {
     "name": "stdout",
     "output_type": "stream",
     "text": [
      "AX=B'的解为X=[2. 2. 1.]\n"
     ]
    }
   ],
   "source": [
    "A = [[4,2,-2],[2,2,-3],[-2,-3,14]]\n",
    "B = [10,5,4]\n",
    "print(\"AX=B\\'的解为X={}\".format(Gauss(A,B)))"
   ]
  },
  {
   "cell_type": "code",
   "execution_count": null,
   "metadata": {},
   "outputs": [],
   "source": []
  }
 ],
 "metadata": {
  "kernelspec": {
   "display_name": "Python 3",
   "language": "python",
   "name": "python3"
  },
  "language_info": {
   "codemirror_mode": {
    "name": "ipython",
    "version": 3
   },
   "file_extension": ".py",
   "mimetype": "text/x-python",
   "name": "python",
   "nbconvert_exporter": "python",
   "pygments_lexer": "ipython3",
   "version": "3.9.6"
  }
 },
 "nbformat": 4,
 "nbformat_minor": 2
}
