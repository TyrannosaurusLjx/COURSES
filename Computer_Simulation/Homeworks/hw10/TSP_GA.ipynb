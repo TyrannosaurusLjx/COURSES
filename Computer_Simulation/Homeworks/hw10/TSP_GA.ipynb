{
 "cells": [
  {
   "cell_type": "markdown",
   "metadata": {},
   "source": [
    "# TSP的GA算法实现"
   ]
  },
  {
   "cell_type": "markdown",
   "metadata": {},
   "source": [
    "### 给定TSP的一个实例$C = (c_{ij})_{n\\times n}$,为n个城市之间的距离矩阵，对任一0-1解矩阵$S = (s_{ij})_{n\\times n} $,其中$s_{ij}$取1若解包含城市i->j的路线，否则取0.那么路线距离长度为$d(S) = C*S $.\n"
   ]
  },
  {
   "cell_type": "markdown",
   "metadata": {},
   "source": [
    "### 为实现遗传算法，做如下定义\n",
    "\n",
    "##### 染色体:$ \\sigma(S) = (s_1s_2\\cdots s_n) ,s_{ij} = 1\\iff s_is_j\\in \\sigma(S) $\n",
    "\n",
    "#### 适应度函数:定义为 $ f(S) = n * C_m - C*S ,C_m = \\max\\limits_{i,j}c_{ij} $,显然$f>0$,并且f的最大值恰好是TSP的最优解\n",
    "#### 遗传算子:\n",
    "##### 1.复制算子:按照适应度选择一个个体进行复制\n",
    "##### 2.选择算子:选择father和mother，son的前半部分和father一样，后半部分按mather的序对father的元排序 \n",
    "##### 3.突变算子:随机选择$i\\in \\{1,2,\\cdots n-1\\}$,交换$s_i,s_{i+1}$"
   ]
  },
  {
   "cell_type": "code",
   "execution_count": 233,
   "metadata": {},
   "outputs": [],
   "source": [
    "class SA_TSP():\n",
    "    from random import sample, choice, choices, uniform\n",
    "    def __init__(self, C):\n",
    "        self.maxDepth = 5 # 最大迭代深度\n",
    "        self.target = 1 # 目标优化值\n",
    "        self.dim = len(C) # 维度\n",
    "        self.Top = self.dim * max(max(row) for row in C)\n",
    "        self.C = C # 距离矩阵\n",
    "        self.Pm = 0.1\n",
    "        self.Pc = 0.5\n",
    "        self.Py = 1 - self.Pm - self.Pc\n",
    "        # 每个sigma是一个list\n",
    "        self.sigmas = []\n",
    "    \n",
    "    # 种群初始化\n",
    "    def setX(self, target = 1 , X0 = [], depth = 1000,):\n",
    "        if len(X0) == 0:\n",
    "            self.sigmas.append(self.sample(range(self.dim),self.dim))\n",
    "        else:\n",
    "            self.sigmas = X0\n",
    "        self.maxDepth = depth\n",
    "        self.target = target \n",
    "    \n",
    "    # 设置种群行为概率\n",
    "    def setProbability(self, Pc, Pm):\n",
    "        self.Pm = Pm\n",
    "        self.Pc = Pc\n",
    "        self.Py = 1 - Pm - Pc\n",
    "    \n",
    "    # 染色体编码\n",
    "    def code(self, S):\n",
    "        # 设定起点都在城市0\n",
    "        current_city = 0\n",
    "        chromosome = [current_city]\n",
    "        while len(chromosome) < self.dim:\n",
    "            next_city = [col for col in range(self.dim) if S[current_city][col] == 1][0] # 找出下一个城市\n",
    "            current_city = next_city\n",
    "            chromosome.append(current_city)\n",
    "        return chromosome\n",
    "    \n",
    "    # 舒适度\n",
    "    def comfort(self, sigma):\n",
    "        S = [[0 for _ in range(self.dim)] for _ in range(self.dim)]\n",
    "        for i in range(len(sigma)-1):\n",
    "            S[sigma[i]][sigma[i+1]] = 1\n",
    "        S[sigma[-1]][sigma[0]] = 1 \n",
    "        s = self.Top - sum([self.C[i][j] for  i in range(self.dim) for j in range(self.dim) if S[i][j] == 1])\n",
    "        return s\n",
    "    \n",
    "    # 复制函数\n",
    "    def Copy(self):\n",
    "        newSigma = self.choices(self.sigmas, [self.comfort(sigma) for sigma in self.sigmas])[0]\n",
    "        return newSigma\n",
    "    \n",
    "    # 选择函数\n",
    "    def Select(self):\n",
    "        father,mather = self.choices(self.sigmas, [self.comfort(sigma) for sigma in self.sigmas], k=2)\n",
    "        son = [-1 for _ in range(self.dim)]  \n",
    "        mid = self.dim // 2  \n",
    "        son[:mid] = father[:mid]  \n",
    "        son[mid:] = sorted(father[mid:], key=lambda x: mather.index(x))  \n",
    "        return son\n",
    "    \n",
    "    # 突变函数\n",
    "    def Mutation(self):\n",
    "        newSigma = self.choice(self.sigmas)\n",
    "        i,j = self.choices(range(self.dim),k=2)\n",
    "        i,j = min(i,j),max(i,j)\n",
    "        newSigma[i],newSigma[j] = newSigma[j],newSigma[i]\n",
    "        return newSigma\n",
    "    \n",
    "    # 获取当前种群中的最优种群舒适度\n",
    "    def best(self):\n",
    "        a = max([self.comfort(sigma) for sigma in self.sigmas])\n",
    "        return a\n",
    "    \n",
    "    def main(self):\n",
    "        if len(self.sigmas) == 0:\n",
    "            self.setX()\n",
    "        # 当前迭代深度\n",
    "        depth = 0\n",
    "        bestRoute = self.sigmas[0]\n",
    "        while depth < self.maxDepth and self.best() > self.target:\n",
    "            newSigmas = []\n",
    "            for _ in range(self.dim):\n",
    "                rNum = self.uniform(0,1)\n",
    "                if rNum < self.Py : # 复制\n",
    "                    newSimga = self.Copy()\n",
    "                elif rNum < self.Py + self.Pc:\n",
    "                    newSimga = self.Select()\n",
    "                else:\n",
    "                    newSimga = self.Mutation()\n",
    "                newSigmas.append(newSimga)\n",
    "            depth += 1\n",
    "            self.sigmas = newSigmas\n",
    "            level = [self.comfort(item) for item in self.sigmas]\n",
    "            bestRoute = max(self.sigmas,key=self.comfort) if max(level) > self.comfort(bestRoute) else bestRoute\n",
    "            \n",
    "        return self.Top - self.comfort(bestRoute)\n",
    "        "
   ]
  },
  {
   "cell_type": "code",
   "execution_count": 234,
   "metadata": {},
   "outputs": [
    {
     "name": "stdout",
     "output_type": "stream",
     "text": [
      "最优解：13-> 14-> 9-> 2-> 3-> 0-> 1-> 5-> 15-> 7-> 11-> 6-> 10-> 4-> 8-> 1,路线长度356.4133387461901\n"
     ]
    }
   ],
   "source": [
    "import math\n",
    "city = [(12,12),(18,23),(24,21),(29,25),(31,52),(36,43),(37,14),(42,8),(51,47),\\\n",
    "    (62,53),(63,19),(69,39),(81,7),(82,18),(83,40),(88,30)]\n",
    "# city = [(0,0),(1,1),(3,4)]\n",
    "\n",
    "def d(i,j):\n",
    "    city1,city2 = city[i],city[j]\n",
    "    return math.sqrt( math.pow(city1[0]-city2[0], 2) + math.pow( city1[1] - city2[1] ,2) )\n",
    "\n",
    "M = [[0 for _ in range(len(city))] for _ in range(len(city))]\n",
    "\n",
    "for i in range(len(city)):\n",
    "    for j in range(len(city)):\n",
    "        M[i][j] = d(i,j)\n",
    "        \n",
    "\n",
    "a = SA_TSP(M)\n",
    "a.setX(target=1,X0=[],depth=1000)\n",
    "result = a.main()\n",
    "print(\"最优解：{},路线长度{}\".format(str(max(a.sigmas,key=a.comfort))[1:-2].replace(',','->'),result))\n"
   ]
  },
  {
   "cell_type": "markdown",
   "metadata": {},
   "source": [
    "SA算法计算出的最优解为231左右，误差较大.原因可能在与GA的设计思路不合理，具体表现在染色体设计，也许可以取矩阵S为染色体"
   ]
  },
  {
   "cell_type": "markdown",
   "metadata": {},
   "source": [
    "## P5  求解矩阵积和式"
   ]
  },
  {
   "cell_type": "code",
   "execution_count": 5,
   "metadata": {},
   "outputs": [],
   "source": [
    "import numpy as np\n",
    "from itertools import permutations \n",
    "from random import choice, choices, sample\n",
    "class perm():\n",
    "\n",
    "    def __init__(self, n, m):\n",
    "        self.Pm = 0.01\n",
    "        self.Pc = 0.4\n",
    "        self.T = 100\n",
    "        self.target = 10000\n",
    "        self.n = n\n",
    "        self.m = m\n",
    "        self.perms = []\n",
    "        \n",
    "    # 产生n:m的0-1矩阵\n",
    "    def getMatrix(self):\n",
    "        matrix = np.zeros((self.n, self.n))\n",
    "        indices = np.random.choice(self.n*self.n, self.m, replace=False)\n",
    "        matrix.flat[indices] = 1\n",
    "        return matrix\n",
    "    \n",
    "    # 随机生成初始值\n",
    "    def setInitial(self):\n",
    "        for _ in range(12):\n",
    "            self.perms.append(self.getMatrix())\n",
    "    \n",
    "    # 积和式值 适应度\n",
    "    def getFitness(self, matrix):\n",
    "        if any( [ sum([matrix[i][j] for j in range(self.n) ]) == 0 for i in range(self.n)] )  or \\\n",
    "            any( [ sum([matrix[i][j] for i in range(self.n)]) == 0 for j in range(self.n) ] ) :\n",
    "            perm_sum = 0\n",
    "        else:\n",
    "            perm_sum = 0  \n",
    "            all_permutations = permutations(range(self.n))  \n",
    "            for permutation in all_permutations:  \n",
    "                product = 1  \n",
    "                for i in range(self.n):  \n",
    "                    product *= matrix[i, permutation[i]]  \n",
    "                perm_sum += product  \n",
    "        return perm_sum  \n",
    "    \n",
    "    # 突变\n",
    "    def mutation(self):  \n",
    "        newMatrix = choices(self.perms,[self.getFitness(perm) for perm in self.perms])[0]  \n",
    "        i, j = sample(range(self.n), 2)  \n",
    "        direction = choice(['N', 'W', 'S', 'E'])  \n",
    "        \n",
    "        # 获取当前位置和相邻位置的值  \n",
    "        current = newMatrix[i][j]  \n",
    "        if direction == 'N':  \n",
    "            next_i = (i - 1) % self.n  \n",
    "            newMatrix[i][j], newMatrix[next_i][j] = newMatrix[next_i][j], current  \n",
    "        elif direction == 'W':  \n",
    "            next_j = (j - 1) % self.n  \n",
    "            newMatrix[i][j], newMatrix[i][next_j] = newMatrix[i][next_j], current  \n",
    "        elif direction == 'S':  \n",
    "            next_i = (i + 1) % self.n  \n",
    "            newMatrix[i][j], newMatrix[next_i][j] = newMatrix[next_i][j], current  \n",
    "        else:  # direction == 'E'  \n",
    "            next_j = (j + 1) % self.n  \n",
    "            newMatrix[i][j], newMatrix[i][next_j] = newMatrix[i][next_j], current  \n",
    "        \n",
    "        return newMatrix \n",
    "    # 交叉\n",
    "    def crossover(self):\n",
    "        A,B = choices(self.perms,[self.getFitness(perm) for perm in self.perms],k=2)\n",
    "        Alst = list(A.flat)\n",
    "        Blst = list(B.flat)\n",
    "        i,j = sample(range(self.n*self.n),2)\n",
    "        Alst = Alst[i:] + Alst[:i]\n",
    "        Blst = Blst[j:] + Blst[:j]\n",
    "        for index in range(self.n * self.n):\n",
    "            if Alst[index] != Blst[index]:\n",
    "                Alst[index],Blst[index] = Blst[index],Alst[index]\n",
    "        C = np.array(Alst).reshape(self.n,self.n)\n",
    "        return C\n",
    "    \n",
    "    # 选择\n",
    "    def copy(self):\n",
    "        newMatrix = choices(self.perms,[self.getFitness(perm) for perm in self.perms])[0]\n",
    "        return newMatrix\n",
    "    \n",
    "    # 获取当前种群中的最优种群舒适度\n",
    "    def best(self):\n",
    "        BestComfort = max([self.getFitness(perm) for perm in self.perms])\n",
    "        return BestComfort\n",
    "    \n",
    "    # 主函数\n",
    "    def main(self):\n",
    "        self.setInitial()\n",
    "        depth = 0\n",
    "        while depth < self.T and self.best() < self.target:\n",
    "            newPerms = []\n",
    "            for _ in range(self.m):\n",
    "                rNum = np.random.rand()\n",
    "                if rNum < self.Pm:\n",
    "                    newPerm = self.mutation()\n",
    "                elif rNum < self.Pc + self.Pm:\n",
    "                    newPerm = self.crossover()\n",
    "                else:\n",
    "                    newPerm = self.copy()\n",
    "                newPerms.append(newPerm)\n",
    "            depth += 1\n",
    "            self.perms = newPerms\n",
    "        return self.best()\n",
    "    \n"
   ]
  },
  {
   "cell_type": "code",
   "execution_count": 6,
   "metadata": {},
   "outputs": [
    {
     "name": "stdout",
     "output_type": "stream",
     "text": [
      "the biggest M&A is : 8.0\n"
     ]
    }
   ],
   "source": [
    "MA = perm(8,20)\n",
    "result = MA.main()\n",
    "print(\"the biggest M&A is :\",result)"
   ]
  },
  {
   "cell_type": "code",
   "execution_count": null,
   "metadata": {},
   "outputs": [],
   "source": [
    "MA = perm(8,20)\n",
    "result = MA.main()\n",
    "print(\"the biggest M&A is :\",result)"
   ]
  },
  {
   "cell_type": "markdown",
   "metadata": {},
   "source": [
    "多次运行，得到的最大结果为 16"
   ]
  },
  {
   "cell_type": "markdown",
   "metadata": {},
   "source": [
    "## P6"
   ]
  },
  {
   "cell_type": "code",
   "execution_count": 6,
   "metadata": {},
   "outputs": [
    {
     "name": "stdout",
     "output_type": "stream",
     "text": [
      "A = 5716745.358744745, r = 0.02270348805223292, K = 387967738.12121123\n"
     ]
    },
    {
     "name": "stderr",
     "output_type": "stream",
     "text": [
      "/var/folders/2z/kvvrz9fx7575sz8vyx1php7c0000gn/T/ipykernel_56354/1251266923.py:5: RuntimeWarning: overflow encountered in exp\n",
      "  return A * np.exp( r * t) / ( 1 + (A / K) * np.exp( r * t) )\n",
      "/var/folders/2z/kvvrz9fx7575sz8vyx1php7c0000gn/T/ipykernel_56354/1251266923.py:5: RuntimeWarning: invalid value encountered in divide\n",
      "  return A * np.exp( r * t) / ( 1 + (A / K) * np.exp( r * t) )\n"
     ]
    }
   ],
   "source": [
    "from scipy.optimize import curve_fit\n",
    "import numpy as np\n",
    "# target_func\n",
    "def f(t,A,r,K):\n",
    "    return A * np.exp( r * t) / ( 1 + (A / K) * np.exp( r * t) )\n",
    "\n",
    "populations = [3929214,5308483,7239881,9638453,12866020,17069453,23191876,31433321,39818449,\\\n",
    "    50155783,62947714,75994575,91972266,105710620,122775046,131669275,151325798,179323175,\\\n",
    "        203302031,226545805,248709873]\n",
    "\n",
    "X = np.array(list(range(10,220,10)))\n",
    "Y = np.array(populations)\n",
    "popt, pcov = curve_fit(f,X,Y)\n",
    "A,r,K = popt[0],popt[1],popt[2]\n",
    "print(\"A = {}, r = {}, K = {}\".format(A, r, K))"
   ]
  },
  {
   "cell_type": "markdown",
   "metadata": {},
   "source": [
    "这里year是映射$year(x)= 1780 + x $"
   ]
  },
  {
   "cell_type": "markdown",
   "metadata": {},
   "source": []
  }
 ],
 "metadata": {
  "kernelspec": {
   "display_name": "Python 3",
   "language": "python",
   "name": "python3"
  },
  "language_info": {
   "codemirror_mode": {
    "name": "ipython",
    "version": 3
   },
   "file_extension": ".py",
   "mimetype": "text/x-python",
   "name": "python",
   "nbconvert_exporter": "python",
   "pygments_lexer": "ipython3",
   "version": "3.9.6"
  }
 },
 "nbformat": 4,
 "nbformat_minor": 2
}
