{
 "cells": [
  {
   "cell_type": "markdown",
   "id": "ebcbcaed-bbe0-46a1-bee4-8adaba9dbfa2",
   "metadata": {},
   "source": [
    "### 阅读文献，叙述一类随机数生成原理：[硬件随机数生成器](https://zh.wikipedia.org/zh-cn/%E7%A1%AC%E4%BB%B6%E9%9A%8F%E6%9C%BA%E6%95%B0%E7%94%9F%E6%88%90%E5%99%A8)"
   ]
  },
  {
   "cell_type": "markdown",
   "id": "0cf6a886-b3c2-44b8-865b-ac1a1208a318",
   "metadata": {},
   "source": [
    "## [量子随机数发生器](https://www.zgbk.com/ecph/words?SiteID=1&ID=34401&Type=bkzyb&SubID=81382)"
   ]
  },
  {
   "cell_type": "markdown",
   "id": "ca85483d-ae5d-4af7-ac67-3924f3d23cbf",
   "metadata": {
    "jp-MarkdownHeadingCollapsed": true
   },
   "source": [
    "利用量子力学中量子态可叠加和分解的特性，以及转换成经典粒子特性时的测量塌缩的随机性，得到基于量子物理学基本原理的真随机码串的一种装置。这种随机性起源于 量子物理学中关于微观世界的波粒二象性，其随机性无法进行人为控制，完全由物理学定律决定，由此产生的随机数称为量子随机数发生器。在密码学、博弈等需要随机数不可控制的应用场合具有重要价值。量子随机数发生器可以分为三大类：第一类是实用化的量子随机数发生器，这类发生器需要充分信任设备，即只有可靠的设备产生的随机数才能产生量子随机数，这种量子随机数发生器的码产生率可以很高；第二类是可自检测的量子随机数发生器，可以在不需要保证设备完全可信的条件下产生量子随机数；第三类是半自检测量子随机数发生器，它介于前两类之回，只需要部分信任设备就能获得相对较高速率的量子随机数。"
   ]
  },
  {
   "cell_type": "markdown",
   "id": "7b89b843-7106-4730-be34-e04cf602f31f",
   "metadata": {},
   "source": [
    "### 随机数检验工具"
   ]
  },
  {
   "cell_type": "markdown",
   "id": "07cef33b-8a09-4798-a490-6a60ba71da2b",
   "metadata": {},
   "source": [
    "## [NIST测试工具](https://csrc.nist.gov/projects/random-bit-generation/documentation-and-software)\n"
   ]
  },
  {
   "cell_type": "markdown",
   "id": "a4a7ddff-e2d5-49d1-9af1-8f6e6654042c",
   "metadata": {
    "vscode": {
     "languageId": "plaintext"
    }
   },
   "source": [
    "### NIST 测试套件是由15个测试组成的统计软件包，这些是为了测试随机（任意长度）由基于硬件或软件的密码随机或伪随机数生成器产生的二进制序列。测试关注于各种不同类型的已存在的非随机序列。有些测试可以分成各种子测试。\n",
    "\n",
    "#### 15个测试主要是（属于密码算法安全测试方法）：\n",
    "\n",
    "#### 1.频率（单比特）测试  \n",
    "    频率测试是一种用于测量信号的频率的方法。在单比特频率测试中，我们关注的是单个比特（二进制位）在一定时间内翻转的频率。   \n",
    "#### 2.块内频数测试（Frequency Test within a Block） \n",
    "    一种用于检测生成的随机比特流块内的0和1的频率分布是否符合期望均匀分布的测试方法\n",
    "#### 3.动向（Run）测试  \n",
    "    检测生成的随机比特流中重复连续相同比特（run）的数量，以验证生成的随机性。\n",
    "#### 4.最大游程检测  \n",
    "    评估随机数生成器（RNG）产生的比特流中是否包含比期望长的连续重复序列（最大游程）。此测试统计最长的连续重复比特序列，然后与理论期望值进行比较，以确定生成的随机数据是否包含过多的非随机模式\n",
    "#### 5.二进制矩阵秩（Binary Matrix Rand）测试  \n",
    "    将生成的比特流分成多个块，每个块形成一个二进制矩阵，然后计算这些矩阵的秩。测试的目标是确保这些矩阵的秩分布符合预期的统计特性，以验证生成的随机数据是否满足随机性的要求。 \n",
    "#### 6.频谱测试  \n",
    "    分析生成的数据的频域特性来验证其随机性\n",
    "#### 7.非重叠字匹配测试  \n",
    "    检查生成的比特流中是否包含特定的非重叠字（patterns）或序列\n",
    "#### 8.重叠字匹配测试  \n",
    "    检查生成的比特流中是否包含特定的重叠字（patterns）或序列\n",
    "#### 9.Maurer通用统计检测  \n",
    "    检测生成的比特流是否包含统计特性，如不可压缩性和高度复杂性\n",
    "#### 10、线性复杂度测试  \n",
    "    检查生成的比特流中是否存在线性关系，以验证生成的数据是否具有足够的随机性，而不容易被预测或分析。\n",
    "#### 11、系列（Serial）测试   \n",
    "    关注生成的比特流中是否包含特定的连续序列或模式，以验证生成的数据是否满足随机性要求。此测试通常包括检查比特流中相邻序列的相关性，以检测是否存在重复或可预测的序列\n",
    "#### 12、近似熵测试  \n",
    "    测量生成的比特流中包含的信息熵或随机性水平，以确保生成的数据足够随机且具有高度不确定性\n",
    "#### 13、累积和测试  \n",
    "    将生成的比特流中的比特依次相加，形成累积和，并检查这些和的统计特性\n",
    "#### 14、随机游程（Random Excursions）测试  \n",
    "    检测在生成的比特流中是否存在显著的随机游程，即连续的相同或不同比特序列\n",
    "#### 15、随机游程变量（Random Excursions Variant）测试\n",
    "    随机游程测试的变种，专注于检测在生成的比特流中是否存在显著的随机游程，即连续的相同或不同比特序列，并分析游程的统计特性以验证数据的随机性。\n",
    "    "
   ]
  },
  {
   "cell_type": "markdown",
   "id": "dff1c5e6-06bd-4370-baff-f092ad0e82b3",
   "metadata": {},
   "source": [
    "### 使用举例\n",
    "#### 1.使用python随机库random中随机函数生成十万个随机数，以二进制形式保存至文件pyRandomNumbers中，再使用nist测试工具测试，查看测试结果"
   ]
  },
  {
   "cell_type": "code",
   "execution_count": 3,
   "id": "17ac5817-842e-4052-8018-7fec0d303082",
   "metadata": {},
   "outputs": [],
   "source": [
    "import numpy as np\n",
    "import random\n",
    "random_numbers = [random.random() for _ in range(100000)]\n",
    "# 转化为8位二进制数\n",
    "bin_random_numbers = [format(int(num*255),\"08b\") for num in random_numbers]\n",
    "# 写入文件\n",
    "with open(\"pyRandomNumbers\",'wb') as file:\n",
    "    for bin_num in bin_random_numbers:\n",
    "        byte = int(bin_num,2).to_bytes(1,'big')\n",
    "        file.write(byte)"
   ]
  },
  {
   "cell_type": "markdown",
   "id": "0ceac080-899d-478d-8b75-aeb16c4235f3",
   "metadata": {},
   "source": [
    "cd到assess文件所在目录下。使用./assess启动程序  \n",
    "参数100000表示数据块的长度，这里有80万个byte，取8组测试<font color=\"red\"> （How many bitstreams? 8）</font>，每组10万byte。<font color=\"red\">(./assess 100000)</font>\n"
   ]
  },
  {
   "cell_type": "markdown",
   "id": "5083f60e-a91a-4cdb-9bee-352f1ade9ad3",
   "metadata": {},
   "source": [
    "```\n",
    "luojunxun@ljx sts-2.1.2 % ./assess 100000                    \n",
    "           G E N E R A T O R    S E L E C T I O N \n",
    "           ______________________________________\n",
    "\n",
    "    [0] Input File                 [1] Linear Congruential\n",
    "    [2] Quadratic Congruential I   [3] Quadratic Congruential II\n",
    "    [4] Cubic Congruential         [5] XOR\n",
    "    [6] Modular Exponentiation     [7] Blum-Blum-Shub\n",
    "    [8] Micali-Schnorr             [9] G Using SHA-1\n",
    "\n",
    "   Enter Choice: 0\n",
    "\n",
    "\n",
    "\t\tUser Prescribed Input File: ../../pyRandomNumbers\n",
    "\n",
    "                S T A T I S T I C A L   T E S T S\n",
    "                _________________________________\n",
    "\n",
    "    [01] Frequency                       [02] Block Frequency\n",
    "    [03] Cumulative Sums                 [04] Runs\n",
    "    [05] Longest Run of Ones             [06] Rank\n",
    "    [07] Discrete Fourier Transform      [08] Nonperiodic Template Matchings\n",
    "    [09] Overlapping Template Matchings  [10] Universal Statistical\n",
    "    [11] Approximate Entropy             [12] Random Excursions\n",
    "    [13] Random Excursions Variant       [14] Serial\n",
    "    [15] Linear Complexity\n",
    "\n",
    "         INSTRUCTIONS\n",
    "            Enter 0 if you DO NOT want to apply all of the\n",
    "            statistical tests to each sequence and 1 if you DO.\n",
    "\n",
    "   Enter Choice: 1\n",
    "\n",
    "        P a r a m e t e r   A d j u s t m e n t s\n",
    "        -----------------------------------------\n",
    "    [1] Block Frequency Test - block length(M):         128\n",
    "    [2] NonOverlapping Template Test - block length(m): 9\n",
    "    [3] Overlapping Template Test - block length(m):    9\n",
    "    [4] Approximate Entropy Test - block length(m):     10\n",
    "    [5] Serial Test - block length(m):                  16\n",
    "    [6] Linear Complexity Test - block length(M):       500\n",
    "\n",
    "   Select Test (0 to continue): 0\n",
    "\n",
    "   How many bitstreams? 8\n",
    "\n",
    "   Input File Format:\n",
    "    [0] ASCII - A sequence of ASCII 0's and 1's\n",
    "    [1] Binary - Each byte in data file contains 8 bits of data\n",
    "\n",
    "   Select input mode:  1\n",
    "\n",
    "     Statistical Testing In Progress.........\n",
    "\n",
    "     Statistical Testing Complete!!!!!!!!!!!!\n",
    "```"
   ]
  },
  {
   "cell_type": "markdown",
   "id": "83d31924-93df-4060-a780-a836a6bedab3",
   "metadata": {},
   "source": [
    "在目录experiments/AlgorithmTesting下，有15个测试类型的文件夹和两个汇总txt文件，每个文件夹下有相应的result.txt和stats.txt，分别存储了测试的数据结果和分析\n",
    "freq.txt和finalAnalysisReport.txt是测试的总体结果"
   ]
  },
  {
   "cell_type": "markdown",
   "id": "b761a4bb-5a61-431a-ba6d-26fefb909c66",
   "metadata": {},
   "source": [
    "```\n",
    "luojunxun@ljx AlgorithmTesting % cat freq.txt         \n",
    "________________________________________________________________________________\n",
    "\n",
    "\t\tFILE = ../../pyRandomNumbers\t\tALPHA = 0.0100\n",
    "________________________________________________________________________________\n",
    "\n",
    "\t\tBITSREAD = 100000 0s = 50080 1s = 49920\n",
    "\t\tBITSREAD = 100000 0s = 50176 1s = 49824\n",
    "\t\tBITSREAD = 100000 0s = 50353 1s = 49647\n",
    "\t\tBITSREAD = 100000 0s = 50472 1s = 49528\n",
    "\t\tBITSREAD = 100000 0s = 50028 1s = 49972\n",
    "\t\tBITSREAD = 100000 0s = 50366 1s = 49634\n",
    "\t\tBITSREAD = 100000 0s = 50272 1s = 49728\n",
    "\t\tBITSREAD = 100000 0s = 50166 1s = 49834\n",
    "luojunxun@ljx AlgorithmTesting % cat finalAnalysisReport.txt \n",
    "------------------------------------------------------------------------------\n",
    "RESULTS FOR THE UNIFORMITY OF P-VALUES AND THE PROPORTION OF PASSING SEQUENCES\n",
    "------------------------------------------------------------------------------\n",
    "   generator is <../../pyRandomNumbers>\n",
    "------------------------------------------------------------------------------\n",
    " C1  C2  C3  C4  C5  C6  C7  C8  C9 C10  P-VALUE  PROPORTION  STATISTICAL TEST\n",
    "------------------------------------------------------------------------------\n",
    "  4   0   2   0   0   0   1   0   1   0     ----       7/8       Frequency\n",
    "  0   0   0   1   1   1   0   1   3   1     ----       8/8       BlockFrequency\n",
    "  4   1   0   0   1   2   0   0   0   0     ----       7/8       CumulativeSums\n",
    "  4   1   0   1   1   1   0   0   0   0     ----       6/8    *  CumulativeSums\n",
    "  4   1   0   1   1   1   0   0   0   0     ----       8/8       Runs\n",
    "  8   0   0   0   0   0   0   0   0   0     ----       3/8    *  LongestRun\n",
    "  0   0   0   2   2   2   1   1   0   0     ----       8/8       Rank\n",
    "  2   0   1   0   1   1   0   0   1   2     ----       8/8       FFT\n",
    "  0   0   0   1   0   1   1   2   1   2     ----       8/8       NonOverlappingTemplate\n",
    "  ...\n",
    "  ...\n",
    "  0   0   0   0   0   0   0   0   0   0     ----     ------     RandomExcursionsVariant\n",
    "  1   0   0   0   1   3   0   1   1   1     ----       8/8       Serial\n",
    "  1   0   2   2   0   1   0   1   0   1     ----       8/8       Serial\n",
    "  1   2   1   2   1   0   1   0   0   0     ----       8/8       LinearComplexity\n",
    "\n",
    "\n",
    "- - - - - - - - - - - - - - - - - - - - - - - - - - - - - - - - - - - - - - - - -\n",
    "The minimum pass rate for each statistical test with the exception of the\n",
    "random excursion (variant) test is approximately = 7 for a\n",
    "sample size = 8 binary sequences.\n",
    "\n",
    "The minimum pass rate for the random excursion (variant) test is undefined.\n",
    "\n",
    "For further guidelines construct a probability table using the MAPLE program\n",
    "provided in the addendum section of the documentation.\n",
    "- - - - - - - - - - - - - - - - - - - - - - - - - - - - - - - - - - - - - - - - -\n",
    "\n",
    "```"
   ]
  },
  {
   "cell_type": "markdown",
   "id": "11be2c43-057f-4010-b958-90a2222857a5",
   "metadata": {},
   "source": [
    "#### 2.线性同余生成器"
   ]
  },
  {
   "cell_type": "code",
   "execution_count": 4,
   "id": "4849e617-61aa-4cc6-a90d-342d1276ca0c",
   "metadata": {},
   "outputs": [],
   "source": [
    "class myLCG():\n",
    "    def __init__(self,seed=10086):\n",
    "        # KISS84\n",
    "        self.a = 69069\n",
    "        self.c = 12345\n",
    "        self.m = 2**32\n",
    "        self.state = seed\n",
    "\n",
    "    def LCG(self):\n",
    "        result = (self.a * self.state + self.c) % self.m\n",
    "        self.state = result\n",
    "        return result\n",
    "\n",
    "op = myLCG()\n",
    "my_random_numbers = [op.LCG()/op.m for _ in range(100000)]\n",
    "my_bin_random_numbers = [format(int(num*255),'08b') for num in my_random_numbers]\n",
    "with open(\"myRandomNumbers\",'wb') as file:\n",
    "    for bin_num in my_bin_random_numbers:\n",
    "        byte = int(bin_num,2).to_bytes(1,'big')\n",
    "        file.write(byte)"
   ]
  },
  {
   "cell_type": "markdown",
   "id": "b958a12a-9e93-4426-afb3-a9a385cd8ac6",
   "metadata": {},
   "source": [
    "```\n",
    "luojunxun@ljx AlgorithmTesting % cat freq.txt               \n",
    "________________________________________________________________________________\n",
    "\n",
    "\t\tFILE = ../../myRandomNumbers\t\tALPHA = 0.0100\n",
    "________________________________________________________________________________\n",
    "\n",
    "\t\tBITSREAD = 100000 0s = 50313 1s = 49687\n",
    "\t\tBITSREAD = 100000 0s = 49938 1s = 50062\n",
    "\t\tBITSREAD = 100000 0s = 50134 1s = 49866\n",
    "\t\tBITSREAD = 100000 0s = 50055 1s = 49945\n",
    "\t\tBITSREAD = 100000 0s = 50126 1s = 49874\n",
    "\t\tBITSREAD = 100000 0s = 50142 1s = 49858\n",
    "\t\tBITSREAD = 100000 0s = 50216 1s = 49784\n",
    "\t\tBITSREAD = 100000 0s = 50086 1s = 49914\n",
    "luojunxun@ljx AlgorithmTesting % cat finalAnalysisReport.txt \n",
    "------------------------------------------------------------------------------\n",
    "RESULTS FOR THE UNIFORMITY OF P-VALUES AND THE PROPORTION OF PASSING SEQUENCES\n",
    "------------------------------------------------------------------------------\n",
    "   generator is <../../myRandomNumbers>\n",
    "------------------------------------------------------------------------------\n",
    " C1  C2  C3  C4  C5  C6  C7  C8  C9 C10  P-VALUE  PROPORTION  STATISTICAL TEST\n",
    "------------------------------------------------------------------------------\n",
    "  1   1   0   2   1   1   1   1   0   0     ----       8/8       Frequency\n",
    "  0   0   0   0   3   0   0   1   2   2     ----       8/8       BlockFrequency\n",
    "  1   2   1   0   0   0   2   1   0   1     ----       8/8       CumulativeSums\n",
    "  ...\n",
    "  ...\n",
    "  0   0   0   1   1   2   2   1   1   0     ----       8/8       Serial\n",
    "  0   2   1   2   0   1   0   0   1   1     ----       8/8       LinearComplexity\n",
    "\n",
    "\n",
    "- - - - - - - - - - - - - - - - - - - - - - - - - - - - - - - - - - - - - - - - -\n",
    "The minimum pass rate for each statistical test with the exception of the\n",
    "random excursion (variant) test is approximately = 7 for a\n",
    "sample size = 8 binary sequences.\n",
    "\n",
    "The minimum pass rate for the random excursion (variant) test\n",
    "is approximately = 0 for a sample size = 1 binary sequences.\n",
    "\n",
    "For further guidelines construct a probability table using the MAPLE program\n",
    "provided in the addendum section of the documentation.\n",
    "- - - - - - - - - - - - - - - - - - - - - - - - - - - - - - - - - - - - - - - - -\n",
    "\n",
    "```"
   ]
  },
  {
   "cell_type": "markdown",
   "id": "f7b71a7e-293b-4f3e-9058-423f56c26442",
   "metadata": {},
   "source": [
    "可见迭代格式$X_i = (69069X_{i-1}+12345)\\mod 2^{32}$的随机数生成效果也很好"
   ]
  }
 ],
 "metadata": {
  "kernelspec": {
   "display_name": "Python 3 (ipykernel)",
   "language": "python",
   "name": "python3"
  },
  "language_info": {
   "codemirror_mode": {
    "name": "ipython",
    "version": 3
   },
   "file_extension": ".py",
   "mimetype": "text/x-python",
   "name": "python",
   "nbconvert_exporter": "python",
   "pygments_lexer": "ipython3",
   "version": "3.9.6"
  }
 },
 "nbformat": 4,
 "nbformat_minor": 5
}
