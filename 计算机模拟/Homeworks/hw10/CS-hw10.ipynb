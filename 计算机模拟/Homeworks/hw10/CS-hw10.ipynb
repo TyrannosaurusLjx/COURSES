{
 "cells": [
  {
   "cell_type": "markdown",
   "metadata": {},
   "source": [
    "#### GA算法和SA算法比较"
   ]
  },
  {
   "cell_type": "code",
   "execution_count": 187,
   "metadata": {},
   "outputs": [],
   "source": [
    "class GA:\n",
    "    from random import choice, choices, uniform\n",
    "    # 编码方案(pop->code,code->pop)(格雷码)，适应度函数(pop->int)，初始种群(list)，种群大小(int)，选择算子(pops->pop)，交叉算子(pops->pop)\\\n",
    "        # 变异算子(pops->pop)，迭代次数(int)\n",
    "    def __init__(self, coding = bin, evaluate= lambda x:int(x,2), \\\n",
    "        initial = list(range(23)), iterateDepth = 1000, endValue = 1) :\n",
    "        \n",
    "        self.population = initial # 种群初始化\n",
    "        self.size = len(self.population) # 种群大小\n",
    "        self.coding = coding # 编码函数\n",
    "        self.eva = evaluate # 适应度 return int\n",
    "        self.end = endValue # 优化值（默认优化函数为min）\n",
    "        self.T = iterateDepth # 最大迭代深度\n",
    "        # default\n",
    "        self.Pv = 0.001 # 变异概率\n",
    "        self.Pc = 0.5 # 交换概率\n",
    "        self.Py = 1 - self.Pv - self.Pc # 复制概率\n",
    "        \n",
    "        \n",
    "    # 参数设置\n",
    "    def setP(self, Pv, Pc):  \n",
    "        self.Pv = Pv  \n",
    "        self.Pc = Pc  \n",
    "        self.Py = 1 - Pv - Pc  \n",
    "        return 1  \n",
    "    \n",
    "    def setEva(self, f):\n",
    "        self.eva = lambda x:abs(f(x))\n",
    "\n",
    "    \n",
    "    # 选择复制函数\n",
    "    def cho(self, pops):\n",
    "        return self.choices(pops, [self.eva(pop) for pop in pops])[0]\n",
    "    \n",
    "    # 交换函数\n",
    "    def cro(self,  pops):\n",
    "        # 可以重样，考虑能自交吧\n",
    "        father, mother = self.choices(pops,[self.eva(pop) for pop in pops], k = 2)\n",
    "        k = self.choice( range( - min( len(father),len(mother) ) + 2 ,0) )\n",
    "        son = father[:k] + mother[k:]\n",
    "        return son\n",
    "    \n",
    "    # 突变函数\n",
    "    def var(self, pops):\n",
    "        pop  = self.choice(pops)\n",
    "        if int(pop,2) > 0:\n",
    "            k = self.choice(range(- len(pop) + 2, 0))\n",
    "            newPop = pop[:k] + str(1-int(pop[k])) + pop[k+1:] if k != -1 \\\n",
    "                else pop[:k] + str(1-int(pop[k]))# 0b1的情况\n",
    "        else:\n",
    "            k = self.choice(range( -len(pop) + 3 , 0))\n",
    "            newPop = pop[:k] + str(1-int(pop[k])) + pop[k+1:]\n",
    "        return newPop\n",
    "            \n",
    "    # 最佳评估值\n",
    "    def bestComfortPopValue(self, pops):\n",
    "        return max([self.eva(pop) for pop in pops])\n",
    "        \n",
    "    # 主循环\n",
    "    def main(self):\n",
    "        depth = 0\n",
    "        # 编码\n",
    "        pops = [self.coding(pop) for pop in self.population]\n",
    "\n",
    "        while self.bestComfortPopValue(pops) > self.end and depth < self.T:\n",
    "            newPops = []\n",
    "            for i in range(self.size):\n",
    "                # 内循环，保证每次种群更新size次\n",
    "                p = self.uniform(0,1)\n",
    "                if p < self.Py:\n",
    "                    newPop = self.cho(pops)\n",
    "                elif p < self.Pc + self.Py:\n",
    "                    newPop = self.cro(pops)\n",
    "                else:\n",
    "                    newPop = self.var(pops)\n",
    "                newPops.append(newPop)\n",
    "\n",
    "            depth += 1\n",
    "            pops = newPops\n",
    "        \n",
    "        return  int(max(pops,key=self.eva),2)\n",
    "        \n",
    "        "
   ]
  },
  {
   "cell_type": "code",
   "execution_count": 188,
   "metadata": {},
   "outputs": [],
   "source": [
    "a = GA()\n",
    "def g(s):\n",
    "    x = int(s,2)\n",
    "    return  1000 - ( x **4 -3 * x**2 + 4* x-10)\n",
    "a.setEva(g)\n",
    "result = a.main()"
   ]
  },
  {
   "cell_type": "code",
   "execution_count": 189,
   "metadata": {},
   "outputs": [
    {
     "name": "stdout",
     "output_type": "stream",
     "text": [
      "31\n"
     ]
    }
   ],
   "source": [
    "print(result)"
   ]
  },
  {
   "cell_type": "code",
   "execution_count": null,
   "metadata": {},
   "outputs": [],
   "source": []
  },
  {
   "cell_type": "code",
   "execution_count": null,
   "metadata": {},
   "outputs": [],
   "source": []
  }
 ],
 "metadata": {
  "kernelspec": {
   "display_name": "Python 3",
   "language": "python",
   "name": "python3"
  },
  "language_info": {
   "codemirror_mode": {
    "name": "ipython",
    "version": 3
   },
   "file_extension": ".py",
   "mimetype": "text/x-python",
   "name": "python",
   "nbconvert_exporter": "python",
   "pygments_lexer": "ipython3",
   "version": "3.9.6"
  }
 },
 "nbformat": 4,
 "nbformat_minor": 2
}
