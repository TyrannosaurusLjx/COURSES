{
 "cells": [
  {
   "cell_type": "markdown",
   "id": "46c1e151-764a-4872-8cf6-66a5a3cf4aad",
   "metadata": {},
   "source": [
    "#### 2.计算$\\Phi(t)=\\int_{-\\infty}^t\\frac{1}{\\sqrt{2\\pi}}e^{-\\frac{x^2}{2}}dx$"
   ]
  },
  {
   "cell_type": "markdown",
   "id": "27f2b824",
   "metadata": {},
   "source": [
    "从[t-[t]-2,t]取[t]+10个满足均匀分布的随机数，$t\\leq -2$返回0"
   ]
  },
  {
   "cell_type": "code",
   "execution_count": 141,
   "id": "0fa0d9f4-a854-4066-bad7-697dfdad43ff",
   "metadata": {},
   "outputs": [
    {
     "name": "stdout",
     "output_type": "stream",
     "text": [
      "[0.35536744623032795, 0.6245078542974281, 0.6778727049984801, 0.6852830194380101, 0.6857045475254053]\n",
      "[0.012541708658464785, 0.010009002031641488, 0.012431501816253873, 0.016884170480061546, 0.02085343854870036]\n"
     ]
    }
   ],
   "source": [
    "from scipy.stats import norm\n",
    "from scipy.stats import uniform\n",
    "from scipy.integrate import quad\n",
    "import math\n",
    "\n",
    "def phi(x):\n",
    "    return math.e**(-x**2/2)/math.sqrt(2*math.pi)\n",
    "\n",
    "# 准确值计算\n",
    "def int_phi(t):\n",
    "    if t < -2:\n",
    "        return 0\n",
    "    result,error  = quad(phi,t-math.floor(t)-2,t)\n",
    "    return result\n",
    "\n",
    "# 样本平均法计算\n",
    "def SAA_phi(t):\n",
    "    if t < -2:\n",
    "        return 0\n",
    "    \n",
    "    n = 1000\n",
    "    a = t - math.floor(t)-2\n",
    "    b = t\n",
    "    xn = uniform.rvs(loc = a, scale = b-a, size = n)\n",
    "    result = sum((b-a)*phi(xn)/n)\n",
    "    return result\n",
    "\n",
    "# 重要性抽样 \n",
    "def IS_phi(t):\n",
    "    # g(x)=e^{-x^2} if x < 0 else 2-e^{-x^2}\n",
    "    def g(x):\n",
    "        if x<0:\n",
    "            return -1/(x-1)\n",
    "        else:\n",
    "            return 1/(x+1)\n",
    "    def InverG(x):\n",
    "        if 0<x<=1:\n",
    "            return 1-1/x\n",
    "        elif 1<x<=2:\n",
    "            return 1-1/(2-x)\n",
    "        else:\n",
    "            exit(-1)\n",
    "    X = uniform.rvs(loc = 0, scale = 1, size = 1000)\n",
    "    X = [InverG(x) for x in X]\n",
    "    result = sum([phi(x)/g(x) for x in X])/len(X)\n",
    "    return result\n",
    "        \n",
    "# 误差估计\n",
    "def error(realInt, simInt,x):\n",
    "    result = [abs(realInt(x) - simInt(x))/realInt(x) for _ in range(1000)]\n",
    "    return sum(result)/len(result)\n",
    "# 相对误差\n",
    "print([error(int_phi,IS_phi,i) for i in range(5)])\n",
    "print([error(int_phi,SAA_phi,i) for i in range(5)])"
   ]
  },
  {
   "cell_type": "markdown",
   "id": "c18f6192",
   "metadata": {},
   "source": [
    "#### 5."
   ]
  },
  {
   "cell_type": "markdown",
   "metadata": {},
   "source": [
    "$P(X>20) = \\int_{20}^\\infty\\phi(x)dx=\\int_{-\\infty}^{-20}\\phi(x)dx,\\phi(x) = \\frac{1}{\\sqrt{2\\pi}}e^{-\\frac{x^2}{2}}$"
   ]
  },
  {
   "cell_type": "code",
   "execution_count": 32,
   "metadata": {},
   "outputs": [],
   "source": [
    "def SAA_phi_tail():\n",
    "    rvs = uniform.rvs(loc = 20, scale = 1/20, size = 10000)\n",
    "    result = sum([phi(rv) for rv in rvs])/len(rvs)\n",
    "    return result"
   ]
  },
  {
   "cell_type": "code",
   "execution_count": 33,
   "metadata": {},
   "outputs": [
    {
     "name": "stdout",
     "output_type": "stream",
     "text": [
      "准确值：1.7443984965185905e-89\n",
      "SAA估计值:3.48146261279122e-88\n",
      "绝对误差为:3.3070227631393614e-88\n"
     ]
    }
   ],
   "source": [
    "int_phi_tail_value = quad(phi,20,20+1/20)[0]\n",
    "SAA_phi_tail_value = SAA_phi_tail()\n",
    "print(\"准确值：{}\\nSAA估计值:{}\\n绝对误差为:{}\".format(int_phi_tail_value,SAA_phi_tail_value,abs(int_phi_tail_value-SAA_phi_tail_value)))"
   ]
  },
  {
   "cell_type": "markdown",
   "metadata": {},
   "source": [
    "#### 6."
   ]
  },
  {
   "cell_type": "markdown",
   "metadata": {},
   "source": [
    "(1).$$ E_f(h(x)) = \\int_{-\\infty}^{\\infty}h(x)f(x)dx $$其意义为，函数值h(x)的满足自变量概率密度函数为f(x)的数学期望"
   ]
  },
  {
   "cell_type": "markdown",
   "metadata": {},
   "source": [
    "(2):用python代替"
   ]
  },
  {
   "cell_type": "code",
   "execution_count": 34,
   "metadata": {},
   "outputs": [
    {
     "name": "stdout",
     "output_type": "stream",
     "text": [
      "准确值:0.07461577032883317\n",
      "模拟值:0.07461956898345597\n",
      "相对误差:0.05055552259515488\n"
     ]
    }
   ],
   "source": [
    "def h(x):\n",
    "    result = math.e**(-(x-3)**2/2)+math.e**(-(x-6)**2/2)\n",
    "    return result\n",
    "\n",
    "def g(x):\n",
    "    return h(x)*phi(x)\n",
    "\n",
    "def cal_h_f():\n",
    "    rvs = norm.rvs(loc = 0, scale = 1, size = 1000)\n",
    "    Accurate_value = quad(g,-100,100)[0]\n",
    "    SAA_value = sum([h(rv) for rv in rvs])/len(rvs)\n",
    "    error = abs(Accurate_value-SAA_value)\n",
    "    return Accurate_value,SAA_value,error\n",
    "\n",
    "cal_lst = [cal_h_f() for _ in range(1000)]\n",
    "result = [[item[i] for item in cal_lst] for i in range(3)]\n",
    "result = [sum(lst)/len(lst) for lst in result]\n",
    "print(\"准确值:{}\\n模拟值:{}\\n相对误差:{}\".format(result[0],result[1],result[2]/result[0]))"
   ]
  },
  {
   "cell_type": "markdown",
   "metadata": {},
   "source": [
    "(3):"
   ]
  },
  {
   "cell_type": "code",
   "execution_count": 35,
   "metadata": {},
   "outputs": [
    {
     "name": "stdout",
     "output_type": "stream",
     "text": [
      "准确值:1.5164763694972008e-05\n",
      "模拟值:1.5192010637912698e-05\n",
      "相对误差:0.001796727168899038\n"
     ]
    }
   ],
   "source": [
    "def IS_h():\n",
    "    rvs = uniform.rvs(loc = -8, scale = 7, size = 1000)\n",
    "    IS_value = 7*sum([g(rv) for rv in rvs])/len(rvs)\n",
    "    Accurate_value = quad(g,-8,-1)[0]\n",
    "    return Accurate_value,IS_value,abs(Accurate_value-IS_value)\n",
    "\n",
    "cal_lst = [IS_h() for _ in range(1000)]\n",
    "result = [[item[i] for item in cal_lst] for i in range(3)]\n",
    "result = [sum(lst)/len(lst) for lst in result]\n",
    "\n",
    "print(\"准确值:{}\\n模拟值:{}\\n相对误差:{}\".format(result[0],result[1],abs(result[0]-result[1])/result[0]))"
   ]
  },
  {
   "cell_type": "markdown",
   "metadata": {},
   "source": [
    "相对误差小于（2）的方法，说明模拟更加精确"
   ]
  },
  {
   "cell_type": "markdown",
   "metadata": {},
   "source": [
    "#### 随机投点法（Random shot point method）& 样本平均值法（Sample averaging approximately method）算法实现"
   ]
  },
  {
   "cell_type": "code",
   "execution_count": 73,
   "metadata": {},
   "outputs": [
    {
     "name": "stdout",
     "output_type": "stream",
     "text": [
      "RSP模拟值:623.250\n",
      "SAA模拟值:626.743\n",
      "准确值:625.000\n"
     ]
    }
   ],
   "source": [
    "# random shot point method , function f, integral floor a, ceiling b, suppose f>0\n",
    "def RSP(f, a, b):\n",
    "    from numpy import zeros, mean\n",
    "    from scipy.optimize import minimize\n",
    "    nTrails = 100000 # 试验次数\n",
    "    ceiling_value = -int(minimize(lambda x: -f(x), (a+b)/2, bounds=[(a,b)]).fun)  # 求上界  \n",
    "    # 产生二维随机数\n",
    "    random_array = zeros((2,nTrails))\n",
    "    random_array[0,:] = uniform.rvs(loc = a, scale = b - a, size = nTrails)\n",
    "    random_array[1,:] = uniform.rvs(loc = 0, scale = ceiling_value , size = nTrails)\n",
    "    under_f = f(random_array[0, :]) > random_array[1, :]  \n",
    "    p = mean(under_f) # 概率计算 \n",
    "    S = p * (b - a) * ceiling_value  # 积分值估计\n",
    "    return S\n",
    "\n",
    "# sample averaging approximately method\n",
    "def  SAA(f,a,b):\n",
    "    n = 100000 # 取点个数\n",
    "    rvs = uniform.rvs(loc = a, scale = b-a, size = n)\n",
    "    S = 1/n*(b-a)*sum([f(rv) for rv in rvs])\n",
    "    return S\n",
    "\n",
    "# 测试函数\n",
    "def f(x):\n",
    "    return 4*x**3\n",
    "\n",
    "RSP_value, SAA_value, value = RSP(f,0,5), SAA(f,0,5), quad(f,0,5)[0]\n",
    "print(\"RSP模拟值:{:.3f}\\nSAA模拟值:{:.3f}\\n准确值:{:.3f}\".format(RSP_value,SAA_value,value))"
   ]
  },
  {
   "cell_type": "markdown",
   "metadata": {},
   "source": [
    "#### 收敛性证明和误差估计\n",
    "1.RSP方法，落在区域内的点的个数$n$~$B(N,p)$，从而有$E(n)=Np,\\sigma^2(n)=p(1-p)$\n",
    "\n",
    "于是:$E(I')=E(M|D|p')=M|D|E(p')=M|D|\\frac{E(n)}{N}=\\frac{M|D|}{N}N_p=I$收敛\n",
    "\n",
    "$\\sigma^2(I')=\\frac{(M|D|)^2}{N^2}\\sigma^2(n)=\\frac{(M|D|)^2}{N^2}Np(1-p)=\\frac{1}{N}I(M|D|-I)\\propto \\frac{1}{N}$\n",
    "\n",
    "2.SAA方法，$E(I')=E(\\frac{1}{N}(b-a)\\sum f(X_i))=\\frac{b-a}{N}\\sum E(f(X_i))=(b-a)E(f(X_i))=I$收敛\n",
    "\n",
    "这个不会，看不懂"
   ]
  },
  {
   "cell_type": "markdown",
   "metadata": {},
   "source": []
  },
  {
   "cell_type": "markdown",
   "metadata": {},
   "source": [
    "采用课本中的重要性抽样即可，通过选取合适的$g_X(x)$,使得被积函数$\\frac{f}{g_X}$的比值尽可能接近一，这样方差尽可能的小，从而减小误差"
   ]
  },
  {
   "cell_type": "code",
   "execution_count": 140,
   "metadata": {},
   "outputs": [
    {
     "data": {
      "text/plain": [
       "624.9313888562581"
      ]
     },
     "execution_count": 140,
     "metadata": {},
     "output_type": "execute_result"
    }
   ],
   "source": [
    "# 以f(x)=4x^3在0到5的积分为例，选取g(x)=3x^2/125\n",
    "def f(x):\n",
    "    result = 4*x**3\n",
    "    return result\n",
    "\n",
    "def g(x):\n",
    "    return 3*x**2/125\n",
    "\n",
    "def h(x):\n",
    "    return f(x)/g(x)\n",
    "\n",
    "def inverse_G(x):\n",
    "    result = 5*x**(1/3)\n",
    "    return result\n",
    "\n",
    "def IS(f,g,inverse_G, a,b):\n",
    "    rvs = uniform.rvs(0,1,size = 100000)\n",
    "    rvs = [inverse_G(rv) for rv in rvs]\n",
    "    result = sum(h(rv) for rv in rvs)/len(rvs)\n",
    "    return result\n",
    "\n",
    "IS(f,g,inverse_G,0,1)\n"
   ]
  },
  {
   "cell_type": "markdown",
   "metadata": {},
   "source": [
    "与准确值相差无几"
   ]
  },
  {
   "cell_type": "markdown",
   "metadata": {},
   "source": []
  }
 ],
 "metadata": {
  "kernelspec": {
   "display_name": "Python 3 (ipykernel)",
   "language": "python",
   "name": "python3"
  },
  "language_info": {
   "codemirror_mode": {
    "name": "ipython",
    "version": 3
   },
   "file_extension": ".py",
   "mimetype": "text/x-python",
   "name": "python",
   "nbconvert_exporter": "python",
   "pygments_lexer": "ipython3",
   "version": "3.9.6"
  }
 },
 "nbformat": 4,
 "nbformat_minor": 5
}
